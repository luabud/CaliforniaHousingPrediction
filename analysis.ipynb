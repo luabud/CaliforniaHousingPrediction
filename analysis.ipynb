{
 "cells": [
  {
   "cell_type": "code",
   "execution_count": null,
   "metadata": {},
   "outputs": [],
   "source": [
    "import pandas as pd\n",
    "import seaborn as sns\n",
    "import matplotlib.pyplot as plt\n",
    "\n"
   ]
  },
  {
   "cell_type": "code",
   "execution_count": 60,
   "metadata": {},
   "outputs": [],
   "source": [
    "def calculate_statistics(data):\n",
    "    if data.dtype in ['int32']:\n",
    "        data_mean = int(data.mean())\n",
    "        data_median = int(data.median())\n",
    "        data_std_dev = float(data.std())\n",
    "        return {\n",
    "            'mean': data_mean,\n",
    "            'median': data_median,\n",
    "            'std_dev': data_std_dev,\n",
    "        }\n",
    "    else:\n",
    "        return {\n",
    "            'mode': data.mode()[0],\n",
    "            'unique_count': data.nunique()\n",
    "        }"
   ]
  },
  {
   "cell_type": "code",
   "execution_count": null,
   "metadata": {},
   "outputs": [
    {
     "name": "stdout",
     "output_type": "stream",
     "text": [
      "Total missing values: 20847\n",
      "Total columns with missing values: 2\n",
      "Column: longitude\n",
      "Categorical variable\n",
      "Mode: -118.31\n",
      "Unique count: 844\n",
      "----------------------------------------\n",
      "Column: latitude\n",
      "Categorical variable\n",
      "Mode: 34.06\n",
      "Unique count: 862\n",
      "----------------------------------------\n",
      "Column: housing_median_age\n",
      "Categorical variable\n",
      "Mode: 52.0\n",
      "Unique count: 52\n",
      "----------------------------------------\n",
      "Column: total_rooms\n",
      "Categorical variable\n",
      "Mode: 1527.0\n",
      "Unique count: 5926\n",
      "----------------------------------------\n",
      "Column: net_gain\n",
      "Categorical variable\n",
      "Mode: 0.0\n",
      "Unique count: 1\n",
      "----------------------------------------\n",
      "Column: total_bedrooms\n",
      "Categorical variable\n",
      "Mode: 0.0\n",
      "Unique count: 1924\n",
      "----------------------------------------\n",
      "Column: population\n",
      "Categorical variable\n",
      "Mode: 891.0\n",
      "Unique count: 3888\n",
      "----------------------------------------\n",
      "Column: households\n",
      "Categorical variable\n",
      "Mode: 306.0\n",
      "Unique count: 1815\n",
      "----------------------------------------\n",
      "Column: median_income\n",
      "Categorical variable\n",
      "Mode: 3.125\n",
      "Unique count: 12928\n",
      "----------------------------------------\n",
      "Column: median_house_value\n",
      "Categorical variable\n",
      "Mode: 500001.0\n",
      "Unique count: 3842\n",
      "----------------------------------------\n",
      "Column: ocean_proximity\n",
      "Categorical variable\n",
      "Mode: <1H OCEAN\n",
      "Unique count: 5\n",
      "----------------------------------------\n"
     ]
    }
   ],
   "source": [
    "# Load the dataset\n",
    "df = pd.read_csv(\"./data/housing_modified.csv\")\n",
    "\n",
    "# Total missing values\n",
    "total_missing_counts = int(df.isnull().sum().sum())\n",
    "print(f\"Total missing values: {total_missing_counts}\")\n",
    "\n",
    "# Get the number of columns with missing values\n",
    "total_columns_with_missing_values = int(df.isnull().any().sum())\n",
    "print(f\"Total columns with missing values: {total_columns_with_missing_values}\")\n",
    "\n",
    "# Replace missing values with 0\n",
    "df.fillna(0, inplace=True)\n",
    "\n",
    "\n",
    "for column in df:\n",
    "    statistics = calculate_statistics(df[column])\n",
    "    print(f\"Column: {column}\")\n",
    "    if 'mode' in statistics:\n",
    "        print(\"Categorical variable\")\n",
    "        print(f\"Mode: {statistics['mode']}\")\n",
    "        print(f\"Unique count: {statistics['unique_count']}\")\n",
    "    else:\n",
    "        print(\"Numerical variable\")\n",
    "        print(f\"Mean: {statistics.get('mean', 'N/A')}\")\n",
    "        print(f\"Median: {statistics.get('median', 'N/A')}\")\n",
    "        print(f\"Standard Deviation: {statistics.get('std_dev', 'N/A')}\")\n",
    "    print(\"-\" * 40)\n"
   ]
  },
  {
   "cell_type": "code",
   "execution_count": null,
   "metadata": {},
   "outputs": [],
   "source": []
  }
 ],
 "metadata": {
  "kernelspec": {
   "display_name": ".venv",
   "language": "python",
   "name": "python3"
  },
  "language_info": {
   "codemirror_mode": {
    "name": "ipython",
    "version": 3
   },
   "file_extension": ".py",
   "mimetype": "text/x-python",
   "name": "python",
   "nbconvert_exporter": "python",
   "pygments_lexer": "ipython3",
   "version": "3.13.1"
  }
 },
 "nbformat": 4,
 "nbformat_minor": 2
}
