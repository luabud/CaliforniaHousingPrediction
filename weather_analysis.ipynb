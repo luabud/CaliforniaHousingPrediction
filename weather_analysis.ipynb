{
 "cells": [
  {
   "cell_type": "code",
   "execution_count": 15,
   "metadata": {},
   "outputs": [],
   "source": [
    "import pandas as pd\n",
    "import numpy as np"
   ]
  },
  {
   "cell_type": "code",
   "execution_count": null,
   "metadata": {},
   "outputs": [
    {
     "name": "stdout",
     "output_type": "stream",
     "text": [
      "Heat index at last reference: 148.6576265352\n"
     ]
    },
    {
     "name": "stderr",
     "output_type": "stream",
     "text": [
      "c:\\Users\\luabud\\Apps\\CaliforniaHousingPrediction\\.venv\\Lib\\site-packages\\numpy\\_core\\fromnumeric.py:3860: RuntimeWarning: Mean of empty slice.\n",
      "  return _methods._mean(a, axis=axis, dtype=dtype,\n",
      "c:\\Users\\luabud\\Apps\\CaliforniaHousingPrediction\\.venv\\Lib\\site-packages\\numpy\\_core\\_methods.py:145: RuntimeWarning: invalid value encountered in scalar divide\n",
      "  ret = ret.dtype.type(ret / rcount)\n"
     ]
    }
   ],
   "source": [
    "df = pd.read_csv('./data/weather_data.csv')\n",
    "temperature = df['MaxTemp'].values\n",
    "humidity = df['Humidity9am'].values\n",
    "wind_speed = df['WindSpeed9am'].values\n",
    "\n",
    "def calculate_heat_index(temp, hum):\n",
    "    # Formula for heat index calculation\n",
    "    return -42.379 + 2.04901523 * temp + 10.14333127 * hum - 0.22475541 * temp * hum \\\n",
    "           - 0.00683783 * temp**2 - 0.05481717 * hum**2 + 0.00122874 * temp**2 * hum \\\n",
    "           + 0.00085282 * temp * hum**2 - 0.00000199 * temp**2 * hum**2\n",
    "\n",
    "heat_index = []\n",
    "\n",
    "for t, h in zip(temperature, humidity):\n",
    "    hi = calculate_heat_index(t, h)\n",
    "    heat_index.append(hi)\n",
    "\n",
    "heat_index = np.array(heat_index)\n",
    "\n",
    "try:\n",
    "    high_wind_speeds = wind_speed[wind_speed > 100]\n",
    "    mean_high_wind_speed = np.mean(high_wind_speeds)\n",
    "except ValueError as e:\n",
    "    print(\"Error:\", e)\n",
    "\n",
    "print(\"Heat index at last reference:\", heat_index[-1])"
   ]
  }
 ],
 "metadata": {
  "kernelspec": {
   "display_name": ".venv",
   "language": "python",
   "name": "python3"
  },
  "language_info": {
   "codemirror_mode": {
    "name": "ipython",
    "version": 3
   },
   "file_extension": ".py",
   "mimetype": "text/x-python",
   "name": "python",
   "nbconvert_exporter": "python",
   "pygments_lexer": "ipython3",
   "version": "3.13.1"
  }
 },
 "nbformat": 4,
 "nbformat_minor": 2
}
